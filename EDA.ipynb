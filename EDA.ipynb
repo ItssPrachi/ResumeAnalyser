{
 "cells": [
  {
   "cell_type": "code",
   "execution_count": 1,
   "id": "0460a346-51ac-4593-8ca7-575f3398b548",
   "metadata": {},
   "outputs": [
    {
     "ename": "ModuleNotFoundError",
     "evalue": "No module named 'pandas'",
     "output_type": "error",
     "traceback": [
      "\u001b[1;31m---------------------------------------------------------------------------\u001b[0m",
      "\u001b[1;31mModuleNotFoundError\u001b[0m                       Traceback (most recent call last)",
      "Cell \u001b[1;32mIn[1], line 1\u001b[0m\n\u001b[1;32m----> 1\u001b[0m \u001b[38;5;28;01mimport\u001b[39;00m \u001b[38;5;21;01mpandas\u001b[39;00m \u001b[38;5;28;01mas\u001b[39;00m \u001b[38;5;21;01mpd\u001b[39;00m\n\u001b[0;32m      2\u001b[0m \u001b[38;5;28;01mimport\u001b[39;00m \u001b[38;5;21;01mmatplotlib\u001b[39;00m\u001b[38;5;21;01m.\u001b[39;00m\u001b[38;5;21;01mpyplot\u001b[39;00m \u001b[38;5;28;01mas\u001b[39;00m \u001b[38;5;21;01mplt\u001b[39;00m\n\u001b[0;32m      3\u001b[0m \u001b[38;5;28;01mimport\u001b[39;00m \u001b[38;5;21;01mseaborn\u001b[39;00m \u001b[38;5;28;01mas\u001b[39;00m \u001b[38;5;21;01msns\u001b[39;00m\n",
      "\u001b[1;31mModuleNotFoundError\u001b[0m: No module named 'pandas'"
     ]
    }
   ],
   "source": [
    "import pandas as pd\n",
    "import matplotlib.pyplot as plt\n",
    "import seaborn as sns\n",
    "from collections import Counter\n",
    "from wordcloud import WordCloud"
   ]
  },
  {
   "cell_type": "code",
   "execution_count": 2,
   "id": "4602afa9-ed91-4ac5-b20e-37c102f22d43",
   "metadata": {},
   "outputs": [],
   "source": [
    "def load_data(file_path):\n",
    "    \"\"\"Load processed data from CSV file.\"\"\"\n",
    "    return pd.read_csv(file_path)\n",
    " \n",
    "def plot_category_distribution(data):\n",
    "    \"\"\"Plot the distribution of job categories.\"\"\"\n",
    "    plt.figure(figsize=(12, 6))\n",
    "    sns.countplot(y=data['category'], order=data['category'].value_counts().index)\n",
    "    plt.title('Distribution of Job Categories')\n",
    "    plt.xlabel('Count')\n",
    "    plt.ylabel('Category')\n",
    "    plt.show()\n",
    " \n",
    "def plot_word_frequency(data, top_n=20):\n",
    "    \"\"\"Plot the frequency of top N words across all resumes.\"\"\"\n",
    "    all_words = ' '.join(data['processed_text']).split()\n",
    "    word_freq = Counter(all_words)\n",
    "    top_words = dict(word_freq.most_common(top_n))\n",
    "    \n",
    "    plt.figure(figsize=(12, 6))\n",
    "    sns.barplot(x=list(top_words.values()), y=list(top_words.keys()))\n",
    "    plt.title(f'Top {top_n} Most Frequent Words')\n",
    "    plt.xlabel('Frequency')\n",
    "    plt.ylabel('Words')\n",
    "    plt.show()\n",
    " \n",
    "def generate_wordcloud(data):\n",
    "    \"\"\"Generate a word cloud from all resumes.\"\"\"\n",
    "    all_text = ' '.join(data['processed_text'])\n",
    "    wordcloud = WordCloud(width=800, height=400, background_color='white').generate(all_text)\n",
    "    \n",
    "    plt.figure(figsize=(10, 5))\n",
    "    plt.imshow(wordcloud, interpolation='bilinear')\n",
    "    plt.axis('off')\n",
    "    plt.title('Word Cloud of Resume Content')\n",
    "    plt.show()\n",
    " \n",
    "def analyze_text_length(data):\n",
    "    \"\"\"Analyze and plot the distribution of text length.\"\"\"\n",
    "    data['text_length'] = data['processed_text'].apply(len)\n",
    "    \n",
    "    plt.figure(figsize=(10, 6))\n",
    "    sns.histplot(data['text_length'], kde=True)\n",
    "    plt.title('Distribution of Resume Text Length')\n",
    "    plt.xlabel('Text Length')\n",
    "    plt.ylabel('Count')\n",
    "    plt.show()\n",
    " "
   ]
  },
  {
   "cell_type": "code",
   "execution_count": null,
   "id": "2f0624e1-dea9-4ba4-9003-975265b881b7",
   "metadata": {},
   "outputs": [],
   "source": [
    "# Main EDA function\n",
    "def perform_eda(file_path):\n",
    "    data = load_data(file_path)\n",
    "    \n",
    "    plot_category_distribution(data)\n",
    "    plot_word_frequency(data)\n",
    "    generate_wordcloud(data)\n",
    "    analyze_text_length(data)\n",
    " \n",
    "# Usage\n",
    "perform_eda('data/processed/resumes.csv')"
   ]
  }
 ],
 "metadata": {
  "kernelspec": {
   "display_name": "Python 3 (ipykernel)",
   "language": "python",
   "name": "python3"
  },
  "language_info": {
   "codemirror_mode": {
    "name": "ipython",
    "version": 3
   },
   "file_extension": ".py",
   "mimetype": "text/x-python",
   "name": "python",
   "nbconvert_exporter": "python",
   "pygments_lexer": "ipython3",
   "version": "3.12.4"
  }
 },
 "nbformat": 4,
 "nbformat_minor": 5
}
