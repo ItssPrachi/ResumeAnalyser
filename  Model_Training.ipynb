{
 "cells": [
  {
   "cell_type": "code",
   "execution_count": 1,
   "id": "8491b12d-1e0c-4543-ae9d-24446a451195",
   "metadata": {},
   "outputs": [
    {
     "ename": "ModuleNotFoundError",
     "evalue": "No module named 'sklearn'",
     "output_type": "error",
     "traceback": [
      "\u001b[1;31m---------------------------------------------------------------------------\u001b[0m",
      "\u001b[1;31mModuleNotFoundError\u001b[0m                       Traceback (most recent call last)",
      "Cell \u001b[1;32mIn[1], line 1\u001b[0m\n\u001b[1;32m----> 1\u001b[0m \u001b[38;5;28;01mfrom\u001b[39;00m \u001b[38;5;21;01msklearn\u001b[39;00m\u001b[38;5;21;01m.\u001b[39;00m\u001b[38;5;21;01mmodel_selection\u001b[39;00m \u001b[38;5;28;01mimport\u001b[39;00m train_test_split\n\u001b[0;32m      2\u001b[0m \u001b[38;5;28;01mfrom\u001b[39;00m \u001b[38;5;21;01msklearn\u001b[39;00m\u001b[38;5;21;01m.\u001b[39;00m\u001b[38;5;21;01mnaive_bayes\u001b[39;00m \u001b[38;5;28;01mimport\u001b[39;00m MultinomialNB\n\u001b[0;32m      3\u001b[0m \u001b[38;5;28;01mfrom\u001b[39;00m \u001b[38;5;21;01msklearn\u001b[39;00m\u001b[38;5;21;01m.\u001b[39;00m\u001b[38;5;21;01msvm\u001b[39;00m \u001b[38;5;28;01mimport\u001b[39;00m LinearSVC\n",
      "\u001b[1;31mModuleNotFoundError\u001b[0m: No module named 'sklearn'"
     ]
    }
   ],
   "source": [
    "from sklearn.model_selection import train_test_split\n",
    "from sklearn.naive_bayes import MultinomialNB\n",
    "from sklearn.svm import LinearSVC\n",
    "from sklearn.ensemble import RandomForestClassifier\n",
    "from sklearn.metrics import classification_report, confusion_matrix\n",
    "import pandas as pd\n",
    "import numpy as np\n",
    "import matplotlib.pyplot as plt\n",
    "import seaborn as sns"
   ]
  },
  {
   "cell_type": "code",
   "execution_count": null,
   "id": "13ef264c-84dd-47e3-8d28-ac1038741a42",
   "metadata": {},
   "outputs": [],
   "source": [
    "def load_data_and_features(data_path, feature_path):\n",
    "    \"\"\"Load the processed data and pre-extracted features.\"\"\"\n",
    "    data = pd.read_csv(data_path)\n",
    "    features = np.load(feature_path)\n",
    "    return data, features\n",
    " \n",
    "def split_data(features, labels, test_size=0.2, random_state=42):\n",
    "    \"\"\"Split the data into training and testing sets.\"\"\"\n",
    "    return train_test_split(features, labels, test_size=test_size, random_state=random_state)\n",
    " \n",
    "def train_and_evaluate_model(model, X_train, X_test, y_train, y_test):\n",
    "    \"\"\"Train a model and evaluate its performance.\"\"\"\n",
    " \n",
    "Certainly, I'll continue with the detailed explanation of the model training process, picking up where we left off:\n",
    " \n",
    "```python\n",
    "def train_and_evaluate_model(model, X_train, X_test, y_train, y_test):\n",
    "    \"\"\"Train a model and evaluate its performance.\"\"\"\n",
    "    # Train the model\n",
    "    model.fit(X_train, y_train)\n",
    "    \n",
    "    # Make predictions\n",
    "    y_pred = model.predict(X_test)\n",
    "    \n",
    "    # Evaluate the model\n",
    "    report = classification_report(y_test, y_pred, output_dict=True)\n",
    "    cm = confusion_matrix(y_test, y_pred)\n",
    "    \n",
    "    return report, cm\n",
    " \n",
    "def plot_confusion_matrix(cm, classes):\n",
    "    \"\"\"Plot the confusion matrix.\"\"\"\n",
    "    plt.figure(figsize=(10, 8))\n",
    "    sns.heatmap(cm, annot=True, fmt='d', cmap='Blues', xticklabels=classes, yticklabels=classes)\n",
    "    plt.title('Confusion Matrix')\n",
    "    plt.ylabel('True Label')\n",
    "    plt.xlabel('Predicted Label')\n",
    "    plt.show()\n",
    " \n",
    "def main():\n",
    "    # Load data and features\n",
    "    data, features = load_data_and_features('data/processed/resumes.csv', 'data/processed/tfidf_features.npy')\n",
    "    \n",
    "    # Split the data\n",
    "    X_train, X_test, y_train, y_test = split_data(features, data['category'])\n",
    "    \n",
    "    # Define models\n",
    "    models = {\n",
    "        'Naive Bayes': MultinomialNB(),\n",
    "        'Linear SVM': LinearSVC(),\n",
    "        'Random Forest': RandomForestClassifier()\n",
    "    }\n",
    "    \n",
    "    # Train and evaluate each model\n",
    "    for name, model in models.items():\n",
    "        print(f\"\\nTraining and evaluating {name}...\")\n",
    "        report, cm = train_and_evaluate_model(model, X_train, X_test, y_train, y_test)\n",
    "        \n",
    "        # Print classification report\n",
    "        print(\"\\nClassification Report:\")\n",
    "        for label, metrics in report.items():\n",
    "            if isinstance(metrics, dict):\n",
    "                print(f\"{label}:\")\n",
    "                for metric, value in metrics.items():\n",
    "                    print(f\"  {metric}: {value:.2f}\")\n",
    "        \n",
    "        # Plot confusion matrix\n",
    "        plot_confusion_matrix(cm, classes=data['category'].unique())\n",
    " \n",
    "if __name__ == \"__main__\":\n",
    "    main()"
   ]
  }
 ],
 "metadata": {
  "kernelspec": {
   "display_name": "Python 3 (ipykernel)",
   "language": "python",
   "name": "python3"
  },
  "language_info": {
   "codemirror_mode": {
    "name": "ipython",
    "version": 3
   },
   "file_extension": ".py",
   "mimetype": "text/x-python",
   "name": "python",
   "nbconvert_exporter": "python",
   "pygments_lexer": "ipython3",
   "version": "3.12.4"
  }
 },
 "nbformat": 4,
 "nbformat_minor": 5
}
